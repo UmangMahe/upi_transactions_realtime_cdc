{
 "cells": [
  {
   "cell_type": "code",
   "execution_count": 0,
   "metadata": {
    "application/vnd.databricks.v1+cell": {
     "cellMetadata": {
      "byteLimit": 2048000,
      "rowLimit": 10000
     },
     "inputWidgets": {},
     "nuid": "40550e4e-0ddb-4bd5-ac1f-eb5de9847806",
     "showTitle": false,
     "tableResultSettingsMap": {},
     "title": ""
    }
   },
   "outputs": [],
   "source": [
    "# df = spark.readStream.format(\"delta\").option(\"readChangeData\", \"true\").table(\"incremental_load.default.raw_upi_transactions\")\n",
    "\n",
    "# display(df)\n",
    "\n",
    "# query = df.select(\n",
    "#     \"transaction_id\",\n",
    "#     \"upi_id\",\n",
    "#     \"merchant_id\",\n",
    "#     \"txn_amount\",\n",
    "#     \"transaction_time\",\n",
    "#     \"txn_status\",\n",
    "#     \"_change_type\",  # CDC change type\n",
    "#     \"_commit_version\",\n",
    "#     \"_commit_timestamp\"\n",
    "# ).writeStream.format(\"console\") \\\n",
    "#     .outputMode(\"append\") \\\n",
    "#     .start()\n",
    "\n",
    "# query.awaitTermination()"
   ]
  },
  {
   "cell_type": "code",
   "execution_count": 0,
   "metadata": {
    "application/vnd.databricks.v1+cell": {
     "cellMetadata": {
      "byteLimit": 2048000,
      "rowLimit": 10000
     },
     "inputWidgets": {},
     "nuid": "f1968708-214a-4fd8-a9a3-9b0215206fb3",
     "showTitle": false,
     "tableResultSettingsMap": {},
     "title": ""
    }
   },
   "outputs": [],
   "source": [
    "from delta.tables import DeltaTable\n",
    "from pyspark.sql.functions import col, sum, when\n",
    "\n",
    "aggregated_table_name = \"incremental_load.default.aggregated_upi_transactions\"\n",
    "raw_table_name = \"incremental_load.default.raw_upi_transactions_v1\"\n",
    "\n",
    "spark.sql(f\"\"\"\n",
    "          CREATE TABLE IF NOT EXISTS {aggregated_table_name} (\n",
    "              merchant_id STRING,\n",
    "              total_sales DOUBLE,\n",
    "              total_refunds DOUBLE,\n",
    "              net_sales DOUBLE\n",
    "          )\n",
    "          USING DELTA\n",
    "          \"\"\")\n",
    "\n",
    "def process_aggregation(batch_df, batch_id):\n",
    "    print(f\"Processing batch {batch_id}\")\n",
    "\n",
    "    aggregated_df = (\n",
    "        batch_df.filter(col(\"_change_type\").isin(\"update_postimage\", \"insert\"))\n",
    "        .groupBy(\"merchant_id\")).agg(sum(when(col(\"txn_status\")==\"completed\", col(\"txn_amount\")).otherwise(0)).alias(\"total_sales\"),\n",
    "                                    sum(when(col(\"txn_status\")==\"refunded\", -col(\"txn_amount\")).otherwise(0)).alias(\"total_refunds\")\n",
    "        ) \\\n",
    "        .withColumn(\"net_sales\", col(\"total_sales\")+col(\"total_refunds\"))\n",
    "    \n",
    "    target_table = DeltaTable.forName(spark, aggregated_table_name)\n",
    "    target_table.alias(\"target\").merge(\n",
    "        aggregated_df.alias(\"source\"),\n",
    "        \"target.merchant_id = source.merchant_id\"\n",
    "    ).whenMatchedUpdate(set={\n",
    "        \"total_sales\": \"source.total_sales + target.total_sales\",\n",
    "        \"total_refunds\": \"source.total_refunds + target.total_refunds\",\n",
    "        \"net_sales\": \"source.net_sales + target.net_sales\"\n",
    "    }).whenNotMatchedInsertAll().execute()\n",
    "\n",
    "cdc_stream = spark.readStream.format(\"delta\").option(\"readChangeFeed\", \"true\").table(raw_table_name)\n",
    "print(\"Read Stream Started.........\")\n",
    "cdc_stream.writeStream.foreachBatch(process_aggregation).outputMode(\"update\").start().awaitTermination()\n",
    "print(\"Write Stream Started.........\")"
   ]
  }
 ],
 "metadata": {
  "application/vnd.databricks.v1+notebook": {
   "computePreferences": null,
   "dashboards": [],
   "environmentMetadata": {
    "base_environment": "",
    "environment_version": "2"
   },
   "inputWidgetPreferences": null,
   "language": "python",
   "notebookMetadata": {
    "pythonIndentUnit": 4
   },
   "notebookName": "realtime_merchant_aggregation",
   "widgets": {}
  },
  "language_info": {
   "name": "python"
  }
 },
 "nbformat": 4,
 "nbformat_minor": 0
}
